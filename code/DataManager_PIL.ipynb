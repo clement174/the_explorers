{
 "cells": [
  {
   "cell_type": "code",
   "execution_count": 1,
   "metadata": {},
   "outputs": [
    {
     "name": "stderr",
     "output_type": "stream",
     "text": [
      "Using TensorFlow backend.\n"
     ]
    }
   ],
   "source": [
    "# Data\n",
    "import numpy as np\n",
    "import pandas as pd\n",
    "import matplotlib.pyplot as plt\n",
    "import os\n",
    "from os.path import join, isdir\n",
    "import cv2\n",
    "from keras.utils import np_utils\n",
    "from sklearn.preprocessing import LabelEncoder\n",
    "from sklearn.model_selection import train_test_split\n",
    "\n",
    "# Model\n",
    "import keras\n",
    "from keras.models import load_model\n",
    "from keras.datasets import mnist\n",
    "\n",
    "from keras.models import Sequential \n",
    "from keras.layers import Dense\n",
    "from keras.layers.convolutional import Conv2D\n",
    "from keras.layers.convolutional import MaxPooling2D\n",
    "from keras.layers import Dropout\n",
    "from keras.layers import Flatten\n",
    "from keras.preprocessing.image import ImageDataGenerator\n",
    "from PIL import Image"
   ]
  },
  {
   "cell_type": "code",
   "execution_count": 2,
   "metadata": {},
   "outputs": [
    {
     "data": {
      "text/plain": [
       "'C:\\\\Users\\\\grabs\\\\Documents\\\\TheExplorers\\\\Dataset\\\\datagit\\\\categs'"
      ]
     },
     "execution_count": 2,
     "metadata": {},
     "output_type": "execute_result"
    }
   ],
   "source": [
    "# PATH IMAGES\n",
    "data_path = os.path.join(os.getcwd(),'Dataset\\\\datagit\\\\categs')\n",
    "data_path"
   ]
  },
  {
   "cell_type": "code",
   "execution_count": 3,
   "metadata": {},
   "outputs": [
    {
     "name": "stdout",
     "output_type": "stream",
     "text": [
      "515\n"
     ]
    }
   ],
   "source": [
    "#Fonction pour renommer les images ==> \n",
    "data_path = os.path.join(os.getcwd(),'Dataset\\\\datagit\\\\categs') #path du dossier categscopy\n",
    "categos = os.listdir(data_path) #liste nom des categories\n",
    "\n",
    "def rename_images(categories):\n",
    "    nbre_img = 0\n",
    "    for category in categories:\n",
    "        category_path = os.path.join(data_path, category) \n",
    "        category_path = category_path.replace('\\\\', '/')\n",
    "        for index, image in enumerate(os.listdir(category_path)):\n",
    "            old_image_name = os.path.join(category_path, image)\n",
    "            old_image_name = old_image_name.replace('\\\\' , '/')\n",
    "            new_image_name = str(category) + str(index) + '.jpg' # categorieindex.jpg (ex : Animals_Earthly12.jpg)\n",
    "            new_image_name = os.path.join(category_path, new_image_name)\n",
    "            new_image_name = new_image_name.replace('\\\\', '/')\n",
    "            nbre_img += 1 #compteur pour verifier que toutes les images sont renommées\n",
    "            try:\n",
    "                os.rename(old_image_name, new_image_name)\n",
    "            except:\n",
    "                pass\n",
    "    print(nbre_img)\n",
    "    \n",
    "rename_images(categos)"
   ]
  },
  {
   "cell_type": "code",
   "execution_count": 4,
   "metadata": {},
   "outputs": [],
   "source": [
    "class DataManager():\n",
    "    \n",
    "    def __init__(self, path):\n",
    "        \n",
    "        self._path = path\n",
    "        self._label_to_int = {}\n",
    "        self._int_to_label = {}\n",
    "        \n",
    "        \n",
    "    def get_data(self, img_size=None, split=False):\n",
    "        \"\"\"\n",
    "            Main function used for data importation.\n",
    "            - If img_size, resize all image to a square of shape (img_size, img_size)\n",
    "            - If split is True, return X_train, X_test, y_train, y_test\n",
    "                else return X, y\n",
    "        \"\"\"\n",
    "        X, y = self.import_data(img_size)\n",
    "#         X = X / 255\n",
    "            \n",
    "        if split:\n",
    "            X_train, X_test, y_train, y_test = train_test_split(X, y, random_state=7)\n",
    "            return X_train, X_test, y_train, y_test\n",
    "            \n",
    "        else:\n",
    "            return X, y\n",
    "        \n",
    "        \n",
    "    def get_label_name(label_id):\n",
    "        \"\"\"\n",
    "            Retrieve the category name of an image based on the label used by model\n",
    "        \"\"\"\n",
    "        if self._int_to_label == {}:\n",
    "            print(\"ERROR\")\n",
    "            print(\"Need to import data first\")\n",
    "        else:\n",
    "            label_name = self._int_to_label[label_id]\n",
    "            \n",
    "            return label_name\n",
    "\n",
    "        \n",
    "    def get_label_id(label_name):\n",
    "        \"\"\"\n",
    "            Retrieve the label of image used by model from his category name\n",
    "        \"\"\"\n",
    "        if label_to_int == {}:\n",
    "            print(\"ERROR\")\n",
    "            print(\"Need to import data first\")\n",
    "        else:\n",
    "            label_id = self._label_to_int[label_name]\n",
    "            \n",
    "            return label_id\n",
    "        \n",
    "    #----------------------------------------------------------------------------------------------\n",
    "    \n",
    "    # PRIVATE\n",
    "    \n",
    "    def import_data(self, img_size):\n",
    "        \"\"\"\n",
    "            Import images from dir\n",
    "            (Used by get_data())\n",
    "        \"\"\"\n",
    "        path = self._path\n",
    "        images = []\n",
    "        labels = []\n",
    "\n",
    "        categs_name = [filename for filename in os.listdir(path)]\n",
    "        for categ in categs_name:\n",
    "            if isdir(join(path, categ)):\n",
    "                \n",
    "                for img_name in os.listdir(join(path, categ)):\n",
    "                    \n",
    "                    if \".jpg\" in img_name:\n",
    "                        \n",
    "                        img_name = self.correct_filename(img_name, categ)\n",
    "                        img_path = join(path, categ, img_name)\n",
    "                        img = np.array(Image.open(img_path).convert('L'))\n",
    "                        \n",
    "                        \n",
    "                        if img_size:\n",
    "                            dim = (img_size, img_size)\n",
    "                            try:\n",
    "                                img = cv2.resize(img, dim)\n",
    "                            except:\n",
    "                                print(img_name, \"has not been loaded.\")\n",
    "                                continue\n",
    "\n",
    "                        images.append(img)\n",
    "                        labels.append(categ)\n",
    "        \n",
    "        X = np.array(images)\n",
    "        y = self.transform_labels(labels)\n",
    "        \n",
    "        return X, y\n",
    "    \n",
    "    \n",
    "    def correct_filename(self, img_name, categ):\n",
    "        \"\"\"\n",
    "            Check if wrong character in image name\n",
    "            If so, change filename in dir and return correct filename for cv2\n",
    "        \"\"\"\n",
    "        path = self._path\n",
    "        \n",
    "        # Change wrong characters in filename\n",
    "        wrong_char = [char for char in img_name if char in [\" \", \"(\", \")\", \"é\", \"©\"]]\n",
    "        if len(wrong_char) > 0:\n",
    "\n",
    "            new_img_name = img_name\n",
    "            for char in [\" \", \"(\", \")\", \"©\"]:\n",
    "                new_img_name = new_img_name.replace(char, \"\")\n",
    "            new_img_name = new_img_name.replace(\"é\", \"e\")\n",
    "            \n",
    "            os.rename(join(path, categ, img_name), join(path, categ, new_img_name))\n",
    "            img_name = new_img_name\n",
    "                \n",
    "        return img_name\n",
    "    \n",
    "    \n",
    "    def transform_labels(self, categs):\n",
    "        \"\"\"\n",
    "            One hot encode categs (Used by get_data())\n",
    "            Store label_to_int and int_to_label dictionary \n",
    "                used by methods get_label_name() and get_label_id\n",
    "        \"\"\"\n",
    "        label_encoder = LabelEncoder()\n",
    "        enc_label = label_encoder.fit_transform(categs)\n",
    "\n",
    "        self._label_to_int = { categ: label_encoder.transform([categ])[0] for categ in categs }\n",
    "        self._int_to_label = { label_encoder.transform([categ])[0]: categ for categ in categs }\n",
    "        \n",
    "        y = np_utils.to_categorical(enc_label)\n",
    "        \n",
    "        return y\n",
    "        \n",
    "        \n",
    "    def split_data(self):\n",
    "        \"\"\"\n",
    "            Split data and make sure we all have the same random_state\n",
    "            Used by get_data()\n",
    "        \"\"\"\n",
    "        X_train, X_test, y_train, y_test = train_test_split(X, y, random_state=7)\n",
    "        \n",
    "        return X_train, X_test, y_train, y_test"
   ]
  },
  {
   "cell_type": "code",
   "execution_count": 5,
   "metadata": {},
   "outputs": [],
   "source": [
    "# Select image size\n",
    "img_size = 224\n",
    "\n",
    "# Instantiate manager\n",
    "manager = DataManager(data_path)\n",
    "\n",
    "# Load data\n",
    "X_train, X_test, y_train, y_test = manager.get_data(img_size=img_size, split=True)"
   ]
  },
  {
   "cell_type": "code",
   "execution_count": 7,
   "metadata": {},
   "outputs": [
    {
     "data": {
      "text/plain": [
       "515"
      ]
     },
     "execution_count": 7,
     "metadata": {},
     "output_type": "execute_result"
    }
   ],
   "source": [
    "#Nombre de photos importées sur 515\n",
    "len(X_train) + len(X_test)"
   ]
  },
  {
   "cell_type": "code",
   "execution_count": 8,
   "metadata": {},
   "outputs": [
    {
     "name": "stdout",
     "output_type": "stream",
     "text": [
      "(386, 224, 224)\n",
      "(129, 224, 224)\n",
      "(386, 27)\n",
      "(129, 27)\n"
     ]
    }
   ],
   "source": [
    "print(X_train.shape)\n",
    "print(X_test.shape)\n",
    "print(y_train.shape)\n",
    "print(y_test.shape)"
   ]
  },
  {
   "cell_type": "code",
   "execution_count": null,
   "metadata": {},
   "outputs": [],
   "source": []
  }
 ],
 "metadata": {
  "kernelspec": {
   "display_name": "Python 3",
   "language": "python",
   "name": "python3"
  },
  "language_info": {
   "codemirror_mode": {
    "name": "ipython",
    "version": 3
   },
   "file_extension": ".py",
   "mimetype": "text/x-python",
   "name": "python",
   "nbconvert_exporter": "python",
   "pygments_lexer": "ipython3",
   "version": "3.7.3"
  }
 },
 "nbformat": 4,
 "nbformat_minor": 2
}
